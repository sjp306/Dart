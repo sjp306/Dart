{
  "nbformat": 4,
  "nbformat_minor": 0,
  "metadata": {
    "colab": {
      "provenance": [],
      "authorship_tag": "ABX9TyPVIy/0tHtvrVPHUOf1zA1n",
      "include_colab_link": true
    },
    "kernelspec": {
      "name": "python3",
      "display_name": "Python 3"
    },
    "language_info": {
      "name": "python"
    }
  },
  "cells": [
    {
      "cell_type": "markdown",
      "metadata": {
        "id": "view-in-github",
        "colab_type": "text"
      },
      "source": [
        "<a href=\"https://colab.research.google.com/github/sjp306/Dart/blob/main/python1.ipynb\" target=\"_parent\"><img src=\"https://colab.research.google.com/assets/colab-badge.svg\" alt=\"Open In Colab\"/></a>"
      ]
    },
    {
      "cell_type": "code",
      "execution_count": 3,
      "metadata": {
        "colab": {
          "base_uri": "https://localhost:8080/"
        },
        "id": "BZ9GtMM4X8Pl",
        "outputId": "469f07bd-1084-4ca8-8ae4-df833bcd4822"
      },
      "outputs": [
        {
          "output_type": "stream",
          "name": "stdout",
          "text": [
            "결과값은 14 입니다.\n"
          ]
        }
      ],
      "source": [
        "print(\"결과값은\", 2*7, \"입니다.\")"
      ]
    },
    {
      "cell_type": "code",
      "source": [
        "f_temp = 90.0 # 화씨온도\n",
        "c_temp = (f_temp-32)* 5.0/9.0 # 섭씨온도\n",
        "print(c_temp) # 섭씨온도 출력"
      ],
      "metadata": {
        "colab": {
          "base_uri": "https://localhost:8080/"
        },
        "id": "AdyfluPyY8aU",
        "outputId": "24a585fb-4d33-48be-8194-b38b5c508db1"
      },
      "execution_count": 5,
      "outputs": [
        {
          "output_type": "stream",
          "name": "stdout",
          "text": [
            "32.22222222222222\n"
          ]
        }
      ]
    },
    {
      "cell_type": "code",
      "source": [
        "print(\"안녕하세요? 여러분\")\n",
        "print(\"저는 파이썬을 무척 좋아합니다.\")\n",
        "print(\"9*8은 72 입니다.\")\n",
        "print(\"안녕히 계세요\")"
      ],
      "metadata": {
        "colab": {
          "base_uri": "https://localhost:8080/"
        },
        "id": "oI8O0_STaUrM",
        "outputId": "8a8cf848-7882-49ce-c472-cae4fead99f7"
      },
      "execution_count": 6,
      "outputs": [
        {
          "output_type": "stream",
          "name": "stdout",
          "text": [
            "안녕하세요? 여러분\n",
            "저는 파이썬을 무척 좋아합니다.\n",
            "9*8은 72 입니다.\n",
            "안녕히 계세요\n"
          ]
        }
      ]
    },
    {
      "cell_type": "code",
      "source": [
        "temp = 10 # 온도 설정\n",
        "if temp > 20: # 온도가 20이상일때\n",
        "    print(\"얇은 옷을 입으세요!\")\n",
        "else:  # 온도가 20이하일때\n",
        "    print(\"두꺼운 옷을 입으세요!\")"
      ],
      "metadata": {
        "colab": {
          "base_uri": "https://localhost:8080/"
        },
        "id": "YfJVVbdqcr01",
        "outputId": "c08d4902-1731-434b-a24b-c522a49130fa"
      },
      "execution_count": 10,
      "outputs": [
        {
          "output_type": "stream",
          "name": "stdout",
          "text": [
            "두꺼운 옷을 입으세요!\n"
          ]
        }
      ]
    },
    {
      "cell_type": "code",
      "source": [
        "sign = \"stop\" # sign을 stop으로 설정\n",
        "while sign == \"stop\": # sign이 stop이 될때까지\n",
        "    sign = input(\"현제 신호를 입력하시오: \") # sign의 값 입력\n",
        "print(\"OK! 진행합니다.\")"
      ],
      "metadata": {
        "colab": {
          "base_uri": "https://localhost:8080/"
        },
        "id": "uweuA_QmwbSm",
        "outputId": "db22c764-928d-4034-ee8c-33b18c6aabf9"
      },
      "execution_count": 11,
      "outputs": [
        {
          "output_type": "stream",
          "name": "stdout",
          "text": [
            "현제 신호를 입력하시오: stop\n",
            "현제 신호를 입력하시오: d\n",
            "OK! 진행합니다.\n"
          ]
        }
      ]
    },
    {
      "cell_type": "code",
      "source": [
        "print(\"숫자게임에 오신 것을 환영합니다.\")\n",
        "number = 62  # 숫자 설정\n",
        "s=input(\"1부터 100 사이의 숫자를 추측해보세요:\")\n",
        "guess = int(s) # 추측값\n",
        "if guess == number: # 추측이 맞았을때\n",
        "    print(\"맞았습니다.\")\n",
        "else:   # 추측이 틀린경우\n",
        "    print(\"틀렸습니다.\")\n",
        "print(\"게임이 종료되었습니다.\") # 추측의 참 거짓 여부와 상관없이 출력"
      ],
      "metadata": {
        "colab": {
          "base_uri": "https://localhost:8080/"
        },
        "id": "1J0DcwQxzqnj",
        "outputId": "59b19d0e-8b1c-4c69-b781-e520187771a3"
      },
      "execution_count": 13,
      "outputs": [
        {
          "output_type": "stream",
          "name": "stdout",
          "text": [
            "숫자게임에 오신 것을 환영합니다.\n",
            "1부터 100 사이의 숫자를 추측해보세요:62\n",
            "맞았습니다.\n",
            "게임이 종료되었습니다.\n"
          ]
        }
      ]
    },
    {
      "cell_type": "code",
      "source": [
        "nuber = int(input(\"참석자의 수를 입력하시오:\")) # 참석자의 수 입력\n",
        "chicken = nuber # 치킨의 수 입력\n",
        "beer = nuber*2 # 맥주의 수 입력\n",
        "cake = nuber*4 # 케이크의 수 입력\n",
        "print(\"치킨의 수:\", chicken)\n",
        "print(\"맥주의 수:\", beer)\n",
        "print(\"케이크의 수:\", cake)"
      ],
      "metadata": {
        "colab": {
          "base_uri": "https://localhost:8080/"
        },
        "id": "NOERcML31oWh",
        "outputId": "8fa7fc28-bacb-4bbd-baed-ced360b34b3f"
      },
      "execution_count": 15,
      "outputs": [
        {
          "output_type": "stream",
          "name": "stdout",
          "text": [
            "참석자의 수를 입력하시오:25\n",
            "치킨의 수: 25\n",
            "맥주의 수: 50\n",
            "케이크의 수: 100\n"
          ]
        }
      ]
    },
    {
      "cell_type": "code",
      "source": [
        "TAX_RATE = 0.35 # 세율\n",
        "tax = 1000 * TAX_RATE # 세금\n",
        "income = 1000 - tax # 수입\n",
        "print(\"현재의 세율은\", TAX_RATE*100, \"퍼센트입니다.\")"
      ],
      "metadata": {
        "colab": {
          "base_uri": "https://localhost:8080/"
        },
        "id": "WpTs3m0Q2D4t",
        "outputId": "d2e5abe2-4657-4e35-d932-bb7a13e38603"
      },
      "execution_count": 16,
      "outputs": [
        {
          "output_type": "stream",
          "name": "stdout",
          "text": [
            "현재의 세율은 35.0 퍼센트입니다.\n"
          ]
        }
      ]
    },
    {
      "cell_type": "code",
      "source": [
        "a=1000 # 원금\n",
        "r=0.05 # 이자율\n",
        "n=10 # 년도\n",
        "a*(1+r)**n # 원리금 합계"
      ],
      "metadata": {
        "colab": {
          "base_uri": "https://localhost:8080/"
        },
        "id": "ZAdv7rE58294",
        "outputId": "aac7cc63-d3f1-489d-f115-2e960ee72af5"
      },
      "execution_count": 18,
      "outputs": [
        {
          "output_type": "execute_result",
          "data": {
            "text/plain": [
              "1628.894626777442"
            ]
          },
          "metadata": {},
          "execution_count": 18
        }
      ]
    },
    {
      "cell_type": "code",
      "source": [
        "from math import * # math 모듈 임포트\n",
        "time1=10/20 # time1 거리/속력\n",
        "length=sqrt(3**2+4**2) # 산의 길이\n",
        "time2=length/10 # time2 거리/속력\n",
        "time3=length/30 # time3 거리/속력\n",
        "time4=8/20 # time4 거리/속력\n",
        "total = time1+ time2 + time3 + time4 # time의 총합\n",
        "total"
      ],
      "metadata": {
        "colab": {
          "base_uri": "https://localhost:8080/"
        },
        "id": "F535_vos9EFq",
        "outputId": "87d2e20f-d02a-456f-cbc6-9c3d4a1cd03e"
      },
      "execution_count": 27,
      "outputs": [
        {
          "output_type": "execute_result",
          "data": {
            "text/plain": [
              "1.5666666666666669"
            ]
          },
          "metadata": {},
          "execution_count": 27
        }
      ]
    },
    {
      "cell_type": "code",
      "source": [
        "speed = 300000 # 빛의 속도\n",
        "distance = 40000000000000 # 거리\n",
        "sec = distance/speed # 시간\n",
        "light_year = sec/(60.0*60.0*24.0*365.0) # 광년 계산\n",
        "light_year"
      ],
      "metadata": {
        "colab": {
          "base_uri": "https://localhost:8080/"
        },
        "id": "XPWJx2p4EHnU",
        "outputId": "beb9592b-d3ac-40d4-d1ce-717644869032"
      },
      "execution_count": 30,
      "outputs": [
        {
          "output_type": "execute_result",
          "data": {
            "text/plain": [
              "4.227972264501945"
            ]
          },
          "metadata": {},
          "execution_count": 30
        }
      ]
    },
    {
      "cell_type": "code",
      "source": [
        "itemPrice = int(input(\"물건값을 입력하시오: \"))\n",
        "note = int(input(\"1000원 지폐개수: \"))\n",
        "coin500 = int(input(\"500원 동전개수: \"))\n",
        "coin100 = int(input(\"100원 동전개수: \"))\n",
        "change = note*1000 + coin500*500 + coin100*100 - itemPrice\n",
        "\n",
        "# 거스름돈(500원 동전개수)을 계산한다.\n",
        "nCoin500 = change//500\n",
        "change = change%500\n",
        "\n",
        "# 거스름돈(100원 동전개수)을 계산한다.\n",
        "nCoin100 = change//100\n",
        "change = change%100\n",
        "\n",
        "# 거스름돈(10원 동전개수)을 계산한다.\n",
        "nCoin10 = change//10\n",
        "change = change%10\n",
        "\n",
        "# 거스름돈(1원 동전개수)을 계산한다.\n",
        "nCoin1 = change\n",
        "\n",
        "print(\"500원=\", nCoin500, \"100원=\", nCoin100, \"10원=\", nCoin10, \"1원=\", nCoin1)"
      ],
      "metadata": {
        "colab": {
          "base_uri": "https://localhost:8080/"
        },
        "id": "D-_NF90uIfuV",
        "outputId": "314bbbb5-e846-4d9c-e582-8e9386423675"
      },
      "execution_count": 31,
      "outputs": [
        {
          "output_type": "stream",
          "name": "stdout",
          "text": [
            "물건값을 입력하시오: 750\n",
            "1000원 지폐개수: 1\n",
            "500원 동전개수: 0\n",
            "100원 동전개수: 0\n",
            "500원= 0 100원= 2 10원= 5 1원= 0\n"
          ]
        }
      ]
    },
    {
      "cell_type": "code",
      "source": [
        "word1 = input(\"첫 번째 단어를 입력해주세요: \")\n",
        "word2 = input(\"두 번째 단어를 입력해주세요: \")\n",
        "word3 = input(\"세 번째 단어를 입력해주세요: \")\n",
        "print(word1[0] + word2[0] + word3[0]) # 첫번째 단어 인덱싱해서 합치기"
      ],
      "metadata": {
        "colab": {
          "base_uri": "https://localhost:8080/"
        },
        "id": "yQoK6qsTRBVt",
        "outputId": "07af0891-95e3-47ef-e262-ff3b84637238"
      },
      "execution_count": 56,
      "outputs": [
        {
          "output_type": "stream",
          "name": "stdout",
          "text": [
            "첫 번째 단어를 입력해주세요: original\n",
            "두 번째 단어를 입력해주세요: sound\n",
            "세 번째 단어를 입력해주세요: track\n",
            "ost\n"
          ]
        }
      ]
    },
    {
      "cell_type": "code",
      "source": [
        "weight = float(input(\"짐의 무게는 얼마입니까? \")) # 짐의 무게는 부동소수점형\n",
        "\n",
        "if(weight>20): # 20 초과인 경우\n",
        "    print(\"무거운 짐은 20000원을 내셔야 합니다.\")\n",
        "else: # 20 이하인 경우\n",
        "    print(\"짐에 대한 수수료는 없습니다.\")\n",
        "print(\"감사합니다. \") # 결과에 상관없이 출력"
      ],
      "metadata": {
        "colab": {
          "base_uri": "https://localhost:8080/"
        },
        "id": "j107B5YDeskD",
        "outputId": "12363938-f184-4cf4-a906-64afaa372385"
      },
      "execution_count": 65,
      "outputs": [
        {
          "output_type": "stream",
          "name": "stdout",
          "text": [
            "짐의 무게는 얼마입니까? 18\n",
            "짐에 대한 수수료는 없습니다.\n",
            "감사합니다. \n"
          ]
        }
      ]
    },
    {
      "cell_type": "code",
      "source": [
        "temp = float(input(\"현재 기온을 입력하시오: \"))\n",
        "if temp<=30:\n",
        "    print(\"긴바지를 입으세요.\")\n",
        "else:\n",
        "    print(\"반바지를 입으세요.\")\n",
        "print(\"이제 나가서 운동하세요!\")\n"
      ],
      "metadata": {
        "colab": {
          "base_uri": "https://localhost:8080/"
        },
        "id": "sAIqm0MWmCB8",
        "outputId": "59e3ac19-722e-4d9e-e749-41a04fd52602"
      },
      "execution_count": 66,
      "outputs": [
        {
          "output_type": "stream",
          "name": "stdout",
          "text": [
            "현재 기온을 입력하시오: 32\n",
            "반바지를 입으세요.\n",
            "이제 나가서 운동하세요!\n"
          ]
        }
      ]
    },
    {
      "cell_type": "code",
      "source": [
        "number=int(input(\"정수를 입력하세요: \"))\n",
        "if number%2==0:\n",
        "    print(\"입력된 정수는 짝수입니다.\")\n",
        "else:\n",
        "    print(\"입력된 정수는 홀수입니다.\")"
      ],
      "metadata": {
        "colab": {
          "base_uri": "https://localhost:8080/"
        },
        "id": "U4V8Y7v9r2dD",
        "outputId": "025923f9-e186-44e4-f250-1ad038f6c5ba"
      },
      "execution_count": 69,
      "outputs": [
        {
          "output_type": "stream",
          "name": "stdout",
          "text": [
            "정수를 입력하세요: 5\n",
            "입력된 정수는 홀수입니다.\n"
          ]
        }
      ]
    },
    {
      "cell_type": "code",
      "source": [
        "x = int(input(\"첫 번째 정수: \"))\n",
        "y = int(input(\"두 번째 정수: \"))\n",
        "if(x>y):\n",
        "    max = x\n",
        "else:\n",
        "    max = y\n",
        "print(\"큰 수는\", max)"
      ],
      "metadata": {
        "colab": {
          "base_uri": "https://localhost:8080/"
        },
        "id": "jCERCX_ds6EA",
        "outputId": "2cd2e653-fb74-4656-a494-71b8eedfb87d"
      },
      "execution_count": 71,
      "outputs": [
        {
          "output_type": "stream",
          "name": "stdout",
          "text": [
            "첫 번째 정수: 5\n",
            "두 번째 정수: 8\n",
            "큰 수는 8\n"
          ]
        }
      ]
    },
    {
      "cell_type": "code",
      "source": [],
      "metadata": {
        "id": "LEMot61PtaR1"
      },
      "execution_count": null,
      "outputs": []
    }
  ]
}